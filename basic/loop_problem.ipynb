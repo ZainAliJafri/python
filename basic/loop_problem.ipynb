{
 "cells": [
  {
   "cell_type": "markdown",
   "metadata": {},
   "source": [
    "### Counting Positive Numbers"
   ]
  },
  {
   "cell_type": "code",
   "metadata": {
    "ExecuteTime": {
     "end_time": "2024-06-07T14:08:29.385287Z",
     "start_time": "2024-06-07T14:08:29.368985Z"
    }
   },
   "source": [
    "numbers = [1, -2, 3, -4, 5, 6, -7, -8, 9, 10]\n",
    "positive_num = 0\n",
    "for num in numbers:\n",
    "    if num > 0:\n",
    "        positive_num += 1\n",
    "        \n",
    "    \n",
    "print(positive_num)\n"
   ],
   "outputs": [
    {
     "name": "stdout",
     "output_type": "stream",
     "text": [
      "6\n"
     ]
    }
   ],
   "execution_count": 2
  },
  {
   "cell_type": "markdown",
   "metadata": {},
   "source": [
    "### Sum of Even Numbers"
   ]
  },
  {
   "cell_type": "code",
   "metadata": {
    "ExecuteTime": {
     "end_time": "2024-06-07T14:11:16.162145Z",
     "start_time": "2024-06-07T14:11:16.148346Z"
    }
   },
   "source": [
    "n = 10\n",
    "\n",
    "sum_of_even = 0\n",
    "\n",
    "for num in range(1, n+1):\n",
    "    if num % 2 == 0:\n",
    "        sum_of_even += num\n",
    "        \n",
    "print(sum_of_even)"
   ],
   "outputs": [
    {
     "name": "stdout",
     "output_type": "stream",
     "text": [
      "30\n"
     ]
    }
   ],
   "execution_count": 5
  },
  {
   "metadata": {},
   "cell_type": "markdown",
   "source": "## 3. Multiplication Table Printer"
  },
  {
   "cell_type": "code",
   "metadata": {
    "ExecuteTime": {
     "end_time": "2024-06-07T14:19:30.037082Z",
     "start_time": "2024-06-07T14:19:30.030756Z"
    }
   },
   "source": [
    "n = 3\n",
    "\n",
    "for i in range(1, 11):\n",
    "    if i == 5:\n",
    "        continue\n",
    "    print(f\"{n} x {i} = {n*i}\")\n",
    "    "
   ],
   "outputs": [
    {
     "name": "stdout",
     "output_type": "stream",
     "text": [
      "3 x 1 = 3\n",
      "3 x 2 = 6\n",
      "3 x 3 = 9\n",
      "3 x 4 = 12\n",
      "3 x 6 = 18\n",
      "3 x 7 = 21\n",
      "3 x 8 = 24\n",
      "3 x 9 = 27\n",
      "3 x 10 = 30\n"
     ]
    }
   ],
   "execution_count": 7
  },
  {
   "metadata": {},
   "cell_type": "markdown",
   "source": "## 4. Reverse a String"
  },
  {
   "cell_type": "code",
   "metadata": {
    "ExecuteTime": {
     "end_time": "2024-06-07T14:20:59.615190Z",
     "start_time": "2024-06-07T14:20:59.608361Z"
    }
   },
   "source": [
    "name = \"Python\"\n",
    "reversed_name = name[::-1]\n",
    "print(reversed_name)"
   ],
   "outputs": [
    {
     "name": "stdout",
     "output_type": "stream",
     "text": [
      "nohtyP\n"
     ]
    }
   ],
   "execution_count": 8
  },
  {
   "cell_type": "code",
   "metadata": {
    "ExecuteTime": {
     "end_time": "2024-06-07T14:22:51.056392Z",
     "start_time": "2024-06-07T14:22:51.040254Z"
    }
   },
   "source": [
    "name = \"Python\"\n",
    "reversed_name = \"\"\n",
    "for char in name:\n",
    "    reversed_name = char + reversed_name\n",
    "    \n",
    "print(reversed_name)"
   ],
   "outputs": [
    {
     "name": "stdout",
     "output_type": "stream",
     "text": [
      "nohtyP\n"
     ]
    }
   ],
   "execution_count": 13
  },
  {
   "metadata": {},
   "cell_type": "markdown",
   "source": "## 5. Find the First Non-Repeated Character"
  },
  {
   "cell_type": "code",
   "metadata": {
    "ExecuteTime": {
     "end_time": "2024-06-07T14:26:46.811377Z",
     "start_time": "2024-06-07T14:26:46.805595Z"
    }
   },
   "source": [
    "# Problem: Given a string, find the first non-repeated character.\n",
    "name = \"aaabbcbcbcdff\"\n",
    "non_repeated_char = None\n",
    "for char in name:\n",
    "    if name.count(char) == 1:\n",
    "        non_repeated_char = char\n",
    "        break\n",
    "    \n",
    "print(non_repeated_char)"
   ],
   "outputs": [
    {
     "name": "stdout",
     "output_type": "stream",
     "text": [
      "d\n"
     ]
    }
   ],
   "execution_count": 17
  },
  {
   "metadata": {},
   "cell_type": "markdown",
   "source": "## 6. Factorial Calculator"
  },
  {
   "cell_type": "code",
   "metadata": {
    "ExecuteTime": {
     "end_time": "2024-06-09T21:18:20.379362Z",
     "start_time": "2024-06-09T21:18:20.369850Z"
    }
   },
   "source": [
    "num = 5\n",
    "factorial = 1\n",
    "\n",
    "while num > 0:\n",
    "    factorial *= num\n",
    "    num -= 1\n",
    "    \n",
    "print(factorial)"
   ],
   "outputs": [
    {
     "name": "stdout",
     "output_type": "stream",
     "text": [
      "120\n"
     ]
    }
   ],
   "execution_count": 1
  },
  {
   "metadata": {},
   "cell_type": "markdown",
   "source": "## 7. Validate Input (Problem: Keep asking the user for input until they enter a number between 1 and 10.)"
  },
  {
   "cell_type": "code",
   "metadata": {
    "ExecuteTime": {
     "end_time": "2024-06-09T21:22:38.289274Z",
     "start_time": "2024-06-09T21:22:32.864613Z"
    }
   },
   "source": [
    "num = 0\n",
    "\n",
    "for num in range(1, 11):\n",
    "    num = int(input(\"Enter a number between 1 and 10: \"))\n",
    "    if 1 <= num <= 10:\n",
    "        break\n",
    "    else:\n",
    "        print(\"Invalid input. Please try again.\")"
   ],
   "outputs": [
    {
     "name": "stdout",
     "output_type": "stream",
     "text": [
      "Invalid input. Please try again.\n",
      "Invalid input. Please try again.\n"
     ]
    }
   ],
   "execution_count": 2
  },
  {
   "metadata": {},
   "cell_type": "markdown",
   "source": "## 8. Prime Number Checker (Problem: Check if a number is prime)"
  },
  {
   "metadata": {
    "ExecuteTime": {
     "end_time": "2024-06-09T21:25:05.763673Z",
     "start_time": "2024-06-09T21:25:05.758281Z"
    }
   },
   "cell_type": "code",
   "source": [
    "num = 3\n",
    "is_prime = True\n",
    "for num in range(2, num):\n",
    "    if num % num == 0:\n",
    "        is_prime = False\n",
    "        break"
   ],
   "outputs": [],
   "execution_count": 4
  },
  {
   "metadata": {},
   "cell_type": "markdown",
   "source": "## 9. List Uniqueness Checker (Problem: Check if all elements in a list are unique. If a duplicate is found, exit the loop and print the duplicate.)"
  },
  {
   "metadata": {
    "ExecuteTime": {
     "end_time": "2024-06-09T21:26:57.574911Z",
     "start_time": "2024-06-09T21:26:57.568510Z"
    }
   },
   "cell_type": "code",
   "source": [
    "items = [\"apple\", \"banana\", \"orange\", \"apple\", \"mango\"]\n",
    "duplicate_item = None\n",
    "for item in items:\n",
    "    if items.count(item) > 1:\n",
    "        duplicate_item = item\n",
    "        break\n",
    "        \n",
    "print(duplicate_item)"
   ],
   "outputs": [
    {
     "name": "stdout",
     "output_type": "stream",
     "text": [
      "apple\n"
     ]
    }
   ],
   "execution_count": 5
  },
  {
   "metadata": {},
   "cell_type": "markdown",
   "source": "## 10. Exponential BackoffProblem: (Implement an exponential backoff strategy that doubles the wait time between retries, starting from 1 second, but stops after 5 retries.)"
  },
  {
   "metadata": {
    "ExecuteTime": {
     "end_time": "2024-06-09T21:30:30.759725Z",
     "start_time": "2024-06-09T21:30:27.735742Z"
    }
   },
   "cell_type": "code",
   "source": [
    "import time\n",
    "\n",
    "retries = 3\n",
    "wait_time = 1\n",
    "\n",
    "while retries < 5:\n",
    "    print(f\"Retry {retries + 1}\")\n",
    "    time.sleep(wait_time)\n",
    "    wait_time *= 2\n",
    "    retries += 1\n",
    "    \n",
    "print(\"Failed after 5 retries\")"
   ],
   "outputs": [
    {
     "name": "stdout",
     "output_type": "stream",
     "text": [
      "Retry 4\n",
      "Retry 5\n",
      "Failed after 5 retries\n"
     ]
    }
   ],
   "execution_count": 7
  },
  {
   "metadata": {},
   "cell_type": "code",
   "outputs": [],
   "execution_count": null,
   "source": ""
  }
 ],
 "metadata": {
  "kernelspec": {
   "display_name": "Python 3",
   "language": "python",
   "name": "python3"
  },
  "language_info": {
   "codemirror_mode": {
    "name": "ipython",
    "version": 3
   },
   "file_extension": ".py",
   "mimetype": "text/x-python",
   "name": "python",
   "nbconvert_exporter": "python",
   "pygments_lexer": "ipython3",
   "version": "3.12.3"
  }
 },
 "nbformat": 4,
 "nbformat_minor": 2
}
