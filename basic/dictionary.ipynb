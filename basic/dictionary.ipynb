{
 "cells": [
  {
   "cell_type": "code",
   "execution_count": 2,
   "id": "c5db88feeca2344b",
   "metadata": {
    "ExecuteTime": {
     "end_time": "2024-05-14T23:01:49.849444Z",
     "start_time": "2024-05-14T23:01:49.839774Z"
    }
   },
   "outputs": [],
   "source": [
    "chai_types = {\"Masala\": \"Spiced tea with milk\",\"Ginger\": \"Zesty\", \"Green\": \"Mild\"} "
   ]
  },
  {
   "cell_type": "code",
   "execution_count": 3,
   "id": "f10b13dfd6c40ac6",
   "metadata": {
    "ExecuteTime": {
     "end_time": "2024-05-14T23:02:07.281169Z",
     "start_time": "2024-05-14T23:02:07.268269Z"
    }
   },
   "outputs": [
    {
     "data": {
      "text/plain": [
       "{'Masala': 'Spiced tea with milk', 'Ginger': 'Zesty', 'Green': 'Mild'}"
      ]
     },
     "execution_count": 3,
     "metadata": {},
     "output_type": "execute_result"
    }
   ],
   "source": [
    "chai_types"
   ]
  },
  {
   "cell_type": "code",
   "execution_count": 4,
   "id": "88c99d27a407c911",
   "metadata": {
    "ExecuteTime": {
     "end_time": "2024-05-14T23:02:13.536734Z",
     "start_time": "2024-05-14T23:02:13.528849Z"
    }
   },
   "outputs": [
    {
     "data": {
      "text/plain": [
       "'Spiced tea with milk'"
      ]
     },
     "execution_count": 4,
     "metadata": {},
     "output_type": "execute_result"
    }
   ],
   "source": [
    "chai_types[\"Masala\"]"
   ]
  },
  {
   "cell_type": "code",
   "execution_count": 5,
   "id": "9b4df88e260c4421",
   "metadata": {
    "ExecuteTime": {
     "end_time": "2024-05-14T23:02:41.498874Z",
     "start_time": "2024-05-14T23:02:41.492033Z"
    }
   },
   "outputs": [
    {
     "data": {
      "text/plain": [
       "'Zesty'"
      ]
     },
     "execution_count": 5,
     "metadata": {},
     "output_type": "execute_result"
    }
   ],
   "source": [
    "chai_types[\"Ginger\"]"
   ]
  },
  {
   "cell_type": "code",
   "execution_count": 6,
   "id": "db47cb2b659c9dd1",
   "metadata": {},
   "outputs": [
    {
     "data": {
      "text/plain": [
       "'Mild'"
      ]
     },
     "execution_count": 6,
     "metadata": {},
     "output_type": "execute_result"
    }
   ],
   "source": [
    "chai_types.get(\"Green\")"
   ]
  },
  {
   "cell_type": "code",
   "execution_count": 7,
   "id": "8a09131b",
   "metadata": {},
   "outputs": [],
   "source": [
    "chai_types[\"Green\"] = \"Fresh\""
   ]
  },
  {
   "cell_type": "code",
   "execution_count": 8,
   "id": "355e2904",
   "metadata": {},
   "outputs": [
    {
     "data": {
      "text/plain": [
       "{'Masala': 'Spiced tea with milk', 'Ginger': 'Zesty', 'Green': 'Fresh'}"
      ]
     },
     "execution_count": 8,
     "metadata": {},
     "output_type": "execute_result"
    }
   ],
   "source": [
    "chai_types"
   ]
  },
  {
   "cell_type": "code",
   "execution_count": 9,
   "id": "8987eee2",
   "metadata": {},
   "outputs": [
    {
     "name": "stdout",
     "output_type": "stream",
     "text": [
      "Masala\n",
      "Ginger\n",
      "Green\n"
     ]
    }
   ],
   "source": [
    "for chai in chai_types:\n",
    "    print(chai)"
   ]
  },
  {
   "cell_type": "code",
   "execution_count": 10,
   "id": "e19a9dcf",
   "metadata": {},
   "outputs": [
    {
     "name": "stdout",
     "output_type": "stream",
     "text": [
      "Masala Spiced tea with milk\n",
      "Ginger Zesty\n",
      "Green Fresh\n"
     ]
    }
   ],
   "source": [
    "for chai in chai_types:\n",
    "    print(chai, chai_types[chai])"
   ]
  },
  {
   "cell_type": "code",
   "execution_count": 11,
   "id": "fad6cf59",
   "metadata": {},
   "outputs": [
    {
     "name": "stdout",
     "output_type": "stream",
     "text": [
      "Masala Spiced tea with milk\n",
      "Ginger Zesty\n",
      "Green Fresh\n"
     ]
    }
   ],
   "source": [
    "for key, values in chai_types.items():\n",
    "    print(key, values)\n",
    "    "
   ]
  },
  {
   "cell_type": "code",
   "execution_count": 12,
   "id": "cd9e1975",
   "metadata": {},
   "outputs": [
    {
     "name": "stdout",
     "output_type": "stream",
     "text": [
      "Masala is in the dictionary\n"
     ]
    }
   ],
   "source": [
    "if \"Masala\" in chai_types:\n",
    "    print(\"Masala is in the dictionary\")"
   ]
  },
  {
   "cell_type": "code",
   "execution_count": 13,
   "id": "8d333dd5",
   "metadata": {},
   "outputs": [
    {
     "data": {
      "text/plain": [
       "3"
      ]
     },
     "execution_count": 13,
     "metadata": {},
     "output_type": "execute_result"
    }
   ],
   "source": [
    "len(chai_types)"
   ]
  },
  {
   "cell_type": "code",
   "execution_count": 14,
   "id": "65435ec4",
   "metadata": {},
   "outputs": [],
   "source": [
    "chai_types[\"Earl Grey\"] = \"Citrusy\""
   ]
  },
  {
   "cell_type": "code",
   "execution_count": 15,
   "id": "83bfa1db",
   "metadata": {},
   "outputs": [
    {
     "data": {
      "text/plain": [
       "{'Masala': 'Spiced tea with milk',\n",
       " 'Ginger': 'Zesty',\n",
       " 'Green': 'Fresh',\n",
       " 'Earl Grey': 'Citrusy'}"
      ]
     },
     "execution_count": 15,
     "metadata": {},
     "output_type": "execute_result"
    }
   ],
   "source": [
    "chai_types"
   ]
  },
  {
   "cell_type": "code",
   "execution_count": 16,
   "id": "2d9fe6be",
   "metadata": {},
   "outputs": [],
   "source": [
    "del chai_types[\"Green\"]"
   ]
  },
  {
   "cell_type": "code",
   "execution_count": 17,
   "id": "dd0aa068",
   "metadata": {},
   "outputs": [
    {
     "data": {
      "text/plain": [
       "{'Masala': 'Spiced tea with milk', 'Ginger': 'Zesty', 'Earl Grey': 'Citrusy'}"
      ]
     },
     "execution_count": 17,
     "metadata": {},
     "output_type": "execute_result"
    }
   ],
   "source": [
    "chai_types"
   ]
  },
  {
   "cell_type": "code",
   "execution_count": 18,
   "id": "d61dd480",
   "metadata": {},
   "outputs": [],
   "source": [
    "chai_types_copy = chai_types.copy()"
   ]
  },
  {
   "cell_type": "code",
   "execution_count": 19,
   "id": "3c6001fb",
   "metadata": {},
   "outputs": [],
   "source": [
    "tea_shop = {\n",
    "    \"chai\": {\n",
    "        \"Masala\": \"Spicy\",\n",
    "        \"Ginger\": \"Zesty\",\n",
    "    },\n",
    "    \"coffee\": {\n",
    "        \"Latte\": \"Creamy\",\n",
    "        \"Espresso\": \"Strong\",\n",
    "    }\n",
    "}"
   ]
  },
  {
   "cell_type": "code",
   "execution_count": 20,
   "id": "264995a6",
   "metadata": {},
   "outputs": [
    {
     "data": {
      "text/plain": [
       "{'chai': {'Masala': 'Spicy', 'Ginger': 'Zesty'},\n",
       " 'coffee': {'Latte': 'Creamy', 'Espresso': 'Strong'}}"
      ]
     },
     "execution_count": 20,
     "metadata": {},
     "output_type": "execute_result"
    }
   ],
   "source": [
    "tea_shop"
   ]
  },
  {
   "cell_type": "code",
   "execution_count": 21,
   "id": "a96d8723",
   "metadata": {},
   "outputs": [
    {
     "data": {
      "text/plain": [
       "{'Masala': 'Spicy', 'Ginger': 'Zesty'}"
      ]
     },
     "execution_count": 21,
     "metadata": {},
     "output_type": "execute_result"
    }
   ],
   "source": [
    "tea_shop[\"chai\"]"
   ]
  },
  {
   "cell_type": "code",
   "execution_count": 22,
   "id": "9214e72b",
   "metadata": {},
   "outputs": [
    {
     "data": {
      "text/plain": [
       "'Spicy'"
      ]
     },
     "execution_count": 22,
     "metadata": {},
     "output_type": "execute_result"
    }
   ],
   "source": [
    "tea_shop[\"chai\"][\"Masala\"]"
   ]
  },
  {
   "cell_type": "code",
   "execution_count": 23,
   "id": "17874d73",
   "metadata": {},
   "outputs": [
    {
     "data": {
      "text/plain": [
       "{0: 0, 1: 1, 2: 4, 3: 9, 4: 16, 5: 25}"
      ]
     },
     "execution_count": 23,
     "metadata": {},
     "output_type": "execute_result"
    }
   ],
   "source": [
    "squared_num = {x: x**2 for x in range(6)}\n",
    "squared_num"
   ]
  },
  {
   "cell_type": "code",
   "execution_count": 24,
   "id": "4637c807",
   "metadata": {},
   "outputs": [],
   "source": [
    "squared_num.clear()"
   ]
  },
  {
   "cell_type": "code",
   "execution_count": 25,
   "id": "886d822f",
   "metadata": {},
   "outputs": [
    {
     "data": {
      "text/plain": [
       "{}"
      ]
     },
     "execution_count": 25,
     "metadata": {},
     "output_type": "execute_result"
    }
   ],
   "source": [
    "squared_num"
   ]
  },
  {
   "cell_type": "code",
   "execution_count": 26,
   "id": "fd9cfbe7",
   "metadata": {},
   "outputs": [],
   "source": [
    "keys = [\"Masala\", \"Ginger\", \"Green\"]"
   ]
  },
  {
   "cell_type": "code",
   "execution_count": 27,
   "id": "f75d361a",
   "metadata": {},
   "outputs": [],
   "source": [
    "default_value = \"Delicious\""
   ]
  },
  {
   "cell_type": "code",
   "execution_count": 28,
   "id": "95c3825e",
   "metadata": {},
   "outputs": [],
   "source": [
    "new_dict = dict.fromkeys(keys, default_value)"
   ]
  },
  {
   "cell_type": "code",
   "execution_count": 29,
   "id": "69600cd9",
   "metadata": {},
   "outputs": [
    {
     "data": {
      "text/plain": [
       "{'Masala': 'Delicious', 'Ginger': 'Delicious', 'Green': 'Delicious'}"
      ]
     },
     "execution_count": 29,
     "metadata": {},
     "output_type": "execute_result"
    }
   ],
   "source": [
    "new_dict"
   ]
  },
  {
   "cell_type": "code",
   "execution_count": null,
   "id": "a474bcd8",
   "metadata": {},
   "outputs": [],
   "source": []
  }
 ],
 "metadata": {
  "kernelspec": {
   "display_name": "Python 3",
   "language": "python",
   "name": "python3"
  },
  "language_info": {
   "codemirror_mode": {
    "name": "ipython",
    "version": 3
   },
   "file_extension": ".py",
   "mimetype": "text/x-python",
   "name": "python",
   "nbconvert_exporter": "python",
   "pygments_lexer": "ipython3",
   "version": "3.12.3"
  }
 },
 "nbformat": 4,
 "nbformat_minor": 5
}
