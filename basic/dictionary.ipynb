{
 "cells": [
  {
   "metadata": {
    "ExecuteTime": {
     "end_time": "2024-05-14T23:01:49.849444Z",
     "start_time": "2024-05-14T23:01:49.839774Z"
    }
   },
   "cell_type": "code",
   "source": "chai_types = {\"Masala\": \"Spiced tea with milk\",\"Ginger\": \"Zesty\", \"Green\": \"Mild\"} ",
   "id": "c5db88feeca2344b",
   "outputs": [],
   "execution_count": 1
  },
  {
   "metadata": {
    "ExecuteTime": {
     "end_time": "2024-05-14T23:02:07.281169Z",
     "start_time": "2024-05-14T23:02:07.268269Z"
    }
   },
   "cell_type": "code",
   "source": "chai_types",
   "id": "f10b13dfd6c40ac6",
   "outputs": [
    {
     "data": {
      "text/plain": [
       "{'Masala': 'Spiced tea with milk', 'Ginger': 'Zesty', 'Green': 'Mild'}"
      ]
     },
     "execution_count": 2,
     "metadata": {},
     "output_type": "execute_result"
    }
   ],
   "execution_count": 2
  },
  {
   "metadata": {
    "ExecuteTime": {
     "end_time": "2024-05-14T23:02:13.536734Z",
     "start_time": "2024-05-14T23:02:13.528849Z"
    }
   },
   "cell_type": "code",
   "source": "chai_types[\"Masala\"]",
   "id": "88c99d27a407c911",
   "outputs": [
    {
     "data": {
      "text/plain": [
       "'Spiced tea with milk'"
      ]
     },
     "execution_count": 3,
     "metadata": {},
     "output_type": "execute_result"
    }
   ],
   "execution_count": 3
  },
  {
   "metadata": {
    "ExecuteTime": {
     "end_time": "2024-05-14T23:02:41.498874Z",
     "start_time": "2024-05-14T23:02:41.492033Z"
    }
   },
   "cell_type": "code",
   "source": "chai_types[\"Ginger\"]",
   "id": "9b4df88e260c4421",
   "outputs": [
    {
     "data": {
      "text/plain": [
       "'Zesty'"
      ]
     },
     "execution_count": 6,
     "metadata": {},
     "output_type": "execute_result"
    }
   ],
   "execution_count": 6
  },
  {
   "metadata": {},
   "cell_type": "code",
   "outputs": [],
   "execution_count": null,
   "source": "",
   "id": "db47cb2b659c9dd1"
  }
 ],
 "metadata": {
  "kernelspec": {
   "display_name": "Python 3",
   "language": "python",
   "name": "python3"
  },
  "language_info": {
   "codemirror_mode": {
    "name": "ipython",
    "version": 2
   },
   "file_extension": ".py",
   "mimetype": "text/x-python",
   "name": "python",
   "nbconvert_exporter": "python",
   "pygments_lexer": "ipython2",
   "version": "2.7.6"
  }
 },
 "nbformat": 4,
 "nbformat_minor": 5
}
