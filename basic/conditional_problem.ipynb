{
 "cells": [
  {
   "cell_type": "markdown",
   "metadata": {},
   "source": [
    "### Age Group Categorization"
   ]
  },
  {
   "cell_type": "code",
   "execution_count": 3,
   "metadata": {},
   "outputs": [
    {
     "name": "stdout",
     "output_type": "stream",
     "text": [
      "You are a child\n"
     ]
    }
   ],
   "source": [
    "input_age = input(\"Enter your age: \")\n",
    "age = int(input_age)\n",
    "if age < 13:\n",
    "    print(\"You are a child\")\n",
    "elif age >= 13 and age <= 19:\n",
    "    print(\"You are a teenager\")\n",
    "elif age >= 20 and age <= 59:\n",
    "    print(\"You are an adult\")\n",
    "else:\n",
    "    print(\"You are a senior citizen\")"
   ]
  },
  {
   "cell_type": "markdown",
   "metadata": {},
   "source": [
    "### Movie Ticket Pricing"
   ]
  },
  {
   "cell_type": "code",
   "execution_count": 7,
   "metadata": {},
   "outputs": [
    {
     "name": "stdout",
     "output_type": "stream",
     "text": [
      "The price is 6\n"
     ]
    }
   ],
   "source": [
    "age = int(input(\"Enter your age: \"))\n",
    "day = input(\"Enter the day of the week: \").lower()\n",
    "\n",
    "price = 12 if age >= 18 else 8\n",
    "if day == \"wednesday\":\n",
    "    price -= 2\n",
    "\n",
    "print(f\"The price is {price}\")"
   ]
  },
  {
   "cell_type": "markdown",
   "metadata": {},
   "source": [
    "### Grade Calculator"
   ]
  },
  {
   "cell_type": "code",
   "execution_count": 11,
   "metadata": {},
   "outputs": [
    {
     "name": "stdout",
     "output_type": "stream",
     "text": [
      "Your grade is F\n"
     ]
    }
   ],
   "source": [
    "score = int(input(\"Enter your grade: \"))\n",
    "\n",
    "grade = \"please verify your grade again\" if score >=101 else \"A\" if score >= 90 else \"B\" if score >= 80 else \"C\" if score >= 70 else \"D\" if score >= 60 else \"F\"\n",
    "\n",
    "print(f\"Your grade is {grade}\")"
   ]
  },
  {
   "cell_type": "markdown",
   "metadata": {},
   "source": [
    "### Fruit Ripeness Checker"
   ]
  },
  {
   "cell_type": "code",
   "execution_count": 12,
   "metadata": {},
   "outputs": [
    {
     "name": "stdout",
     "output_type": "stream",
     "text": [
      "The fruit is Unripe\n"
     ]
    }
   ],
   "source": [
    "fruit = \"Banana\"\n",
    "fruit_ripe = input(\"What color is the fruit? \").lower()\n",
    "fruit_state = \"Unripe\" if fruit_ripe == \"green\" else \"Unripe\" if fruit_ripe == \"yellow\" else \"Ripe\"\n",
    "\n",
    "print(f\"The fruit is {fruit_state}\")"
   ]
  },
  {
   "cell_type": "markdown",
   "metadata": {},
   "source": [
    "### Weather Activity Suggestion"
   ]
  },
  {
   "cell_type": "code",
   "execution_count": 13,
   "metadata": {},
   "outputs": [
    {
     "name": "stdout",
     "output_type": "stream",
     "text": [
      "You should Read a book\n"
     ]
    }
   ],
   "source": [
    "weather = input(\"Enter the weather: \").lower()\n",
    "mood = \"Go for a walk\" if weather == \"sunny\" else \"Read a book\" if weather == \"rainy\" else \"build a snowman\" if weather == \"snowy\" else \"Stay in bed\"\n",
    "\n",
    "print(f\"You should {mood}\")"
   ]
  },
  {
   "cell_type": "markdown",
   "metadata": {},
   "source": [
    "### Transportation Mode Selection"
   ]
  },
  {
   "cell_type": "code",
   "execution_count": 14,
   "metadata": {},
   "outputs": [
    {
     "name": "stdout",
     "output_type": "stream",
     "text": [
      "You should bike\n"
     ]
    }
   ],
   "source": [
    "distance = int(input(\"Enter the distance: \"))\n",
    "if distance < 3:\n",
    "    transport = \"walk\"\n",
    "elif distance < 15:\n",
    "    transport = \"bike\"\n",
    "else:\n",
    "    transport = \"Car\"\n",
    "\n",
    "print(f\"You should {transport}\")"
   ]
  },
  {
   "cell_type": "markdown",
   "metadata": {},
   "source": [
    "### Coffee Customization"
   ]
  },
  {
   "cell_type": "code",
   "execution_count": 16,
   "metadata": {},
   "outputs": [
    {
     "name": "stdout",
     "output_type": "stream",
     "text": [
      "Your order is small with an extra shot\n"
     ]
    }
   ],
   "source": [
    "order_size = input(\"Enter the order size: \").lower()\n",
    "extra_shot = True\n",
    "\n",
    "if extra_shot:\n",
    "    coffee = order_size + \" with an extra shot\"\n",
    "else:\n",
    "    coffee = order_size + \" without an extra shot\"\n",
    "\n",
    "print(f\"Your order is {coffee}\")"
   ]
  },
  {
   "cell_type": "markdown",
   "metadata": {},
   "source": [
    "### Password Strength Checker"
   ]
  },
  {
   "cell_type": "code",
   "execution_count": 17,
   "metadata": {},
   "outputs": [
    {
     "name": "stdout",
     "output_type": "stream",
     "text": [
      "Your password is Strong\n"
     ]
    }
   ],
   "source": [
    "password = input(\"Enter your password: \")\n",
    "password_length = len(password)\n",
    "\n",
    "if password_length < 6:\n",
    "    strength = \"Weak\"\n",
    "elif password_length < 10:\n",
    "    strength = \"Medium\"\n",
    "else:\n",
    "    strength = \"Strong\"\n",
    "\n",
    "print(f\"Your password is {strength}\")"
   ]
  },
  {
   "cell_type": "markdown",
   "metadata": {},
   "source": [
    "### Leap Year Checker"
   ]
  },
  {
   "cell_type": "code",
   "execution_count": 23,
   "metadata": {},
   "outputs": [
    {
     "name": "stdout",
     "output_type": "stream",
     "text": [
      "The year is a Not Leap year\n"
     ]
    }
   ],
   "source": [
    "year = int(input(\"Enter the year: \"))\n",
    "\n",
    "if (year % 4 == 0 and year % 100 != 0) or year % 400 == 0:\n",
    "    leap = \"Leap\"\n",
    "else:\n",
    "    leap = \"Not Leap\"\n",
    "\n",
    "print(f\"The year is a {leap} year\")"
   ]
  },
  {
   "cell_type": "markdown",
   "metadata": {},
   "source": [
    "### Pet Food Recommendation"
   ]
  },
  {
   "cell_type": "code",
   "execution_count": 26,
   "metadata": {},
   "outputs": [
    {
     "name": "stdout",
     "output_type": "stream",
     "text": [
      "Your pet is a Senior cat food\n"
     ]
    }
   ],
   "source": [
    "pet_species = input(\"Enter the species of your pet: \").lower()\n",
    "age = int(input(\"Enter the age of your pet: \"))\n",
    "\n",
    "if pet_species == \"dog\":\n",
    "    if age < 2:\n",
    "        age_group = \"Puppy food\"\n",
    "    else:\n",
    "        age_group = \"Senior dog food\"\n",
    "\n",
    "elif pet_species == \"cat\":\n",
    "    if age < 5:\n",
    "        age_group = \"Kitten food\"\n",
    "    else:\n",
    "        age_group = \"Senior cat food\"\n",
    "\n",
    "\n",
    "print(f\"Your pet should eat {age_group}\")"
   ]
  },
  {
   "cell_type": "code",
   "execution_count": null,
   "metadata": {},
   "outputs": [],
   "source": []
  },
  {
   "cell_type": "code",
   "execution_count": null,
   "metadata": {},
   "outputs": [],
   "source": []
  },
  {
   "cell_type": "code",
   "execution_count": null,
   "metadata": {},
   "outputs": [],
   "source": []
  }
 ],
 "metadata": {
  "kernelspec": {
   "display_name": "Python 3",
   "language": "python",
   "name": "python3"
  },
  "language_info": {
   "codemirror_mode": {
    "name": "ipython",
    "version": 3
   },
   "file_extension": ".py",
   "mimetype": "text/x-python",
   "name": "python",
   "nbconvert_exporter": "python",
   "pygments_lexer": "ipython3",
   "version": "3.12.3"
  }
 },
 "nbformat": 4,
 "nbformat_minor": 2
}
